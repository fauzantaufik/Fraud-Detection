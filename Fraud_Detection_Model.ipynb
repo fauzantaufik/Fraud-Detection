{
 "cells": [
  {
   "cell_type": "markdown",
   "metadata": {},
   "source": [
    "## Fauzan Taufik"
   ]
  },
  {
   "cell_type": "code",
   "execution_count": 1,
   "metadata": {},
   "outputs": [],
   "source": [
    "import numpy as np\n",
    "import pandas as pd\n",
    "import matplotlib.pyplot as plt\n",
    "import seaborn as sns"
   ]
  },
  {
   "cell_type": "code",
   "execution_count": 30,
   "metadata": {},
   "outputs": [],
   "source": [
    "df_train = pd.read_csv('fraud_train.csv')"
   ]
  },
  {
   "cell_type": "markdown",
   "metadata": {},
   "source": [
    "## Ekplolatory Data Analysis"
   ]
  },
  {
   "cell_type": "code",
   "execution_count": 17,
   "metadata": {},
   "outputs": [
    {
     "data": {
      "text/plain": [
       "(13125, 28)"
      ]
     },
     "execution_count": 17,
     "metadata": {},
     "output_type": "execute_result"
    }
   ],
   "source": [
    "df_train.shape"
   ]
  },
  {
   "cell_type": "code",
   "execution_count": 18,
   "metadata": {},
   "outputs": [
    {
     "data": {
      "text/html": [
       "<div>\n",
       "<style scoped>\n",
       "    .dataframe tbody tr th:only-of-type {\n",
       "        vertical-align: middle;\n",
       "    }\n",
       "\n",
       "    .dataframe tbody tr th {\n",
       "        vertical-align: top;\n",
       "    }\n",
       "\n",
       "    .dataframe thead th {\n",
       "        text-align: right;\n",
       "    }\n",
       "</style>\n",
       "<table border=\"1\" class=\"dataframe\">\n",
       "  <thead>\n",
       "    <tr style=\"text-align: right;\">\n",
       "      <th></th>\n",
       "      <th>X</th>\n",
       "      <th>id_tanggal_transaksi_awal</th>\n",
       "      <th>tanggal_transaksi_awal</th>\n",
       "      <th>tipe_kartu</th>\n",
       "      <th>id_merchant</th>\n",
       "      <th>nama_merchant</th>\n",
       "      <th>tipe_mesin</th>\n",
       "      <th>tipe_transaksi</th>\n",
       "      <th>nama_transaksi</th>\n",
       "      <th>nilai_transaksi</th>\n",
       "    </tr>\n",
       "  </thead>\n",
       "  <tbody>\n",
       "    <tr>\n",
       "      <th>0</th>\n",
       "      <td>4676</td>\n",
       "      <td>2457646</td>\n",
       "      <td>2457726</td>\n",
       "      <td>111</td>\n",
       "      <td>-2</td>\n",
       "      <td>1798</td>\n",
       "      <td>2605127</td>\n",
       "      <td>26</td>\n",
       "      <td>10</td>\n",
       "      <td>2200000.0</td>\n",
       "    </tr>\n",
       "    <tr>\n",
       "      <th>1</th>\n",
       "      <td>788</td>\n",
       "      <td>2457419</td>\n",
       "      <td>2457507</td>\n",
       "      <td>111</td>\n",
       "      <td>-2</td>\n",
       "      <td>1798</td>\n",
       "      <td>-3</td>\n",
       "      <td>156</td>\n",
       "      <td>12</td>\n",
       "      <td>2500000.0</td>\n",
       "    </tr>\n",
       "    <tr>\n",
       "      <th>2</th>\n",
       "      <td>1520</td>\n",
       "      <td>2457521</td>\n",
       "      <td>2457612</td>\n",
       "      <td>2</td>\n",
       "      <td>-2</td>\n",
       "      <td>1798</td>\n",
       "      <td>-3</td>\n",
       "      <td>156</td>\n",
       "      <td>12</td>\n",
       "      <td>1200000.0</td>\n",
       "    </tr>\n",
       "    <tr>\n",
       "      <th>3</th>\n",
       "      <td>9346</td>\n",
       "      <td>2457659</td>\n",
       "      <td>2457746</td>\n",
       "      <td>103</td>\n",
       "      <td>75336</td>\n",
       "      <td>249</td>\n",
       "      <td>2806174</td>\n",
       "      <td>58</td>\n",
       "      <td>6</td>\n",
       "      <td>320000.0</td>\n",
       "    </tr>\n",
       "    <tr>\n",
       "      <th>4</th>\n",
       "      <td>2914</td>\n",
       "      <td>2457311</td>\n",
       "      <td>2457385</td>\n",
       "      <td>0</td>\n",
       "      <td>-2</td>\n",
       "      <td>1798</td>\n",
       "      <td>2334932</td>\n",
       "      <td>26</td>\n",
       "      <td>10</td>\n",
       "      <td>150000.0</td>\n",
       "    </tr>\n",
       "  </tbody>\n",
       "</table>\n",
       "</div>"
      ],
      "text/plain": [
       "      X  id_tanggal_transaksi_awal  tanggal_transaksi_awal  tipe_kartu  \\\n",
       "0  4676                    2457646                 2457726         111   \n",
       "1   788                    2457419                 2457507         111   \n",
       "2  1520                    2457521                 2457612           2   \n",
       "3  9346                    2457659                 2457746         103   \n",
       "4  2914                    2457311                 2457385           0   \n",
       "\n",
       "   id_merchant  nama_merchant  tipe_mesin  tipe_transaksi  nama_transaksi  \\\n",
       "0           -2           1798     2605127              26              10   \n",
       "1           -2           1798          -3             156              12   \n",
       "2           -2           1798          -3             156              12   \n",
       "3        75336            249     2806174              58               6   \n",
       "4           -2           1798     2334932              26              10   \n",
       "\n",
       "   nilai_transaksi  \n",
       "0        2200000.0  \n",
       "1        2500000.0  \n",
       "2        1200000.0  \n",
       "3         320000.0  \n",
       "4         150000.0  "
      ]
     },
     "execution_count": 18,
     "metadata": {},
     "output_type": "execute_result"
    }
   ],
   "source": [
    "df_train.iloc[:, :10].head()"
   ]
  },
  {
   "cell_type": "code",
   "execution_count": 10,
   "metadata": {},
   "outputs": [
    {
     "data": {
      "text/html": [
       "<div>\n",
       "<style scoped>\n",
       "    .dataframe tbody tr th:only-of-type {\n",
       "        vertical-align: middle;\n",
       "    }\n",
       "\n",
       "    .dataframe tbody tr th {\n",
       "        vertical-align: top;\n",
       "    }\n",
       "\n",
       "    .dataframe thead th {\n",
       "        text-align: right;\n",
       "    }\n",
       "</style>\n",
       "<table border=\"1\" class=\"dataframe\">\n",
       "  <thead>\n",
       "    <tr style=\"text-align: right;\">\n",
       "      <th></th>\n",
       "      <th>id_negara</th>\n",
       "      <th>nama_negara</th>\n",
       "      <th>nama_kota</th>\n",
       "      <th>lokasi_mesin</th>\n",
       "      <th>pemilik_mesin</th>\n",
       "      <th>waktu_transaksi</th>\n",
       "      <th>kuartal_transaksi</th>\n",
       "      <th>kepemilikan_kartu</th>\n",
       "      <th>nama_channel</th>\n",
       "      <th>id_channel</th>\n",
       "    </tr>\n",
       "  </thead>\n",
       "  <tbody>\n",
       "    <tr>\n",
       "      <th>0</th>\n",
       "      <td>96</td>\n",
       "      <td>5</td>\n",
       "      <td>265</td>\n",
       "      <td>4137</td>\n",
       "      <td>613</td>\n",
       "      <td>193955</td>\n",
       "      <td>4</td>\n",
       "      <td>2</td>\n",
       "      <td>1</td>\n",
       "      <td>9</td>\n",
       "    </tr>\n",
       "    <tr>\n",
       "      <th>1</th>\n",
       "      <td>96</td>\n",
       "      <td>5</td>\n",
       "      <td>121</td>\n",
       "      <td>1264</td>\n",
       "      <td>2196</td>\n",
       "      <td>73140</td>\n",
       "      <td>2</td>\n",
       "      <td>1</td>\n",
       "      <td>5</td>\n",
       "      <td>8</td>\n",
       "    </tr>\n",
       "    <tr>\n",
       "      <th>2</th>\n",
       "      <td>96</td>\n",
       "      <td>5</td>\n",
       "      <td>101</td>\n",
       "      <td>1283</td>\n",
       "      <td>2049</td>\n",
       "      <td>140216</td>\n",
       "      <td>3</td>\n",
       "      <td>1</td>\n",
       "      <td>5</td>\n",
       "      <td>8</td>\n",
       "    </tr>\n",
       "    <tr>\n",
       "      <th>3</th>\n",
       "      <td>96</td>\n",
       "      <td>5</td>\n",
       "      <td>239</td>\n",
       "      <td>7049</td>\n",
       "      <td>588</td>\n",
       "      <td>155117</td>\n",
       "      <td>3</td>\n",
       "      <td>2</td>\n",
       "      <td>2</td>\n",
       "      <td>4</td>\n",
       "    </tr>\n",
       "    <tr>\n",
       "      <th>4</th>\n",
       "      <td>96</td>\n",
       "      <td>5</td>\n",
       "      <td>69</td>\n",
       "      <td>3425</td>\n",
       "      <td>613</td>\n",
       "      <td>143339</td>\n",
       "      <td>3</td>\n",
       "      <td>2</td>\n",
       "      <td>1</td>\n",
       "      <td>9</td>\n",
       "    </tr>\n",
       "  </tbody>\n",
       "</table>\n",
       "</div>"
      ],
      "text/plain": [
       "   id_negara  nama_negara  nama_kota  lokasi_mesin  pemilik_mesin  \\\n",
       "0         96            5        265          4137            613   \n",
       "1         96            5        121          1264           2196   \n",
       "2         96            5        101          1283           2049   \n",
       "3         96            5        239          7049            588   \n",
       "4         96            5         69          3425            613   \n",
       "\n",
       "   waktu_transaksi  kuartal_transaksi  kepemilikan_kartu  nama_channel  \\\n",
       "0           193955                  4                  2             1   \n",
       "1            73140                  2                  1             5   \n",
       "2           140216                  3                  1             5   \n",
       "3           155117                  3                  2             2   \n",
       "4           143339                  3                  2             1   \n",
       "\n",
       "   id_channel  \n",
       "0           9  \n",
       "1           8  \n",
       "2           8  \n",
       "3           4  \n",
       "4           9  "
      ]
     },
     "execution_count": 10,
     "metadata": {},
     "output_type": "execute_result"
    }
   ],
   "source": [
    "df_train.iloc[:, 10:20].head()"
   ]
  },
  {
   "cell_type": "code",
   "execution_count": 11,
   "metadata": {},
   "outputs": [
    {
     "data": {
      "text/html": [
       "<div>\n",
       "<style scoped>\n",
       "    .dataframe tbody tr th:only-of-type {\n",
       "        vertical-align: middle;\n",
       "    }\n",
       "\n",
       "    .dataframe tbody tr th {\n",
       "        vertical-align: top;\n",
       "    }\n",
       "\n",
       "    .dataframe thead th {\n",
       "        text-align: right;\n",
       "    }\n",
       "</style>\n",
       "<table border=\"1\" class=\"dataframe\">\n",
       "  <thead>\n",
       "    <tr style=\"text-align: right;\">\n",
       "      <th></th>\n",
       "      <th>flag_transaksi_finansial</th>\n",
       "      <th>status_transaksi</th>\n",
       "      <th>bank_pemilik_kartu</th>\n",
       "      <th>rata_rata_nilai_transaksi</th>\n",
       "      <th>maksimum_nilai_transaksi</th>\n",
       "      <th>minimum_nilai_transaksi</th>\n",
       "      <th>rata_rata_jumlah_transaksi</th>\n",
       "      <th>flag_transaksi_fraud</th>\n",
       "    </tr>\n",
       "  </thead>\n",
       "  <tbody>\n",
       "    <tr>\n",
       "      <th>0</th>\n",
       "      <td>False</td>\n",
       "      <td>3</td>\n",
       "      <td>999</td>\n",
       "      <td>1.332293e+06</td>\n",
       "      <td>9750000.0</td>\n",
       "      <td>10000.0</td>\n",
       "      <td>2.73</td>\n",
       "      <td>0</td>\n",
       "    </tr>\n",
       "    <tr>\n",
       "      <th>1</th>\n",
       "      <td>False</td>\n",
       "      <td>3</td>\n",
       "      <td>999</td>\n",
       "      <td>1.369048e+06</td>\n",
       "      <td>10000000.0</td>\n",
       "      <td>30000.0</td>\n",
       "      <td>2.33</td>\n",
       "      <td>1</td>\n",
       "    </tr>\n",
       "    <tr>\n",
       "      <th>2</th>\n",
       "      <td>False</td>\n",
       "      <td>3</td>\n",
       "      <td>999</td>\n",
       "      <td>1.552346e+07</td>\n",
       "      <td>100000000.0</td>\n",
       "      <td>41804.0</td>\n",
       "      <td>2.40</td>\n",
       "      <td>0</td>\n",
       "    </tr>\n",
       "    <tr>\n",
       "      <th>3</th>\n",
       "      <td>False</td>\n",
       "      <td>3</td>\n",
       "      <td>999</td>\n",
       "      <td>7.117647e+05</td>\n",
       "      <td>6884408.0</td>\n",
       "      <td>10000.0</td>\n",
       "      <td>1.98</td>\n",
       "      <td>0</td>\n",
       "    </tr>\n",
       "    <tr>\n",
       "      <th>4</th>\n",
       "      <td>False</td>\n",
       "      <td>3</td>\n",
       "      <td>999</td>\n",
       "      <td>6.179683e+05</td>\n",
       "      <td>2500000.0</td>\n",
       "      <td>100000.0</td>\n",
       "      <td>1.46</td>\n",
       "      <td>0</td>\n",
       "    </tr>\n",
       "  </tbody>\n",
       "</table>\n",
       "</div>"
      ],
      "text/plain": [
       "   flag_transaksi_finansial  status_transaksi  bank_pemilik_kartu  \\\n",
       "0                     False                 3                 999   \n",
       "1                     False                 3                 999   \n",
       "2                     False                 3                 999   \n",
       "3                     False                 3                 999   \n",
       "4                     False                 3                 999   \n",
       "\n",
       "   rata_rata_nilai_transaksi  maksimum_nilai_transaksi  \\\n",
       "0               1.332293e+06                 9750000.0   \n",
       "1               1.369048e+06                10000000.0   \n",
       "2               1.552346e+07               100000000.0   \n",
       "3               7.117647e+05                 6884408.0   \n",
       "4               6.179683e+05                 2500000.0   \n",
       "\n",
       "   minimum_nilai_transaksi  rata_rata_jumlah_transaksi  flag_transaksi_fraud  \n",
       "0                  10000.0                        2.73                     0  \n",
       "1                  30000.0                        2.33                     1  \n",
       "2                  41804.0                        2.40                     0  \n",
       "3                  10000.0                        1.98                     0  \n",
       "4                 100000.0                        1.46                     0  "
      ]
     },
     "execution_count": 11,
     "metadata": {},
     "output_type": "execute_result"
    }
   ],
   "source": [
    "df_train.iloc[:, 20:].head()"
   ]
  },
  {
   "cell_type": "code",
   "execution_count": 12,
   "metadata": {},
   "outputs": [
    {
     "name": "stdout",
     "output_type": "stream",
     "text": [
      "<class 'pandas.core.frame.DataFrame'>\n",
      "RangeIndex: 13125 entries, 0 to 13124\n",
      "Data columns (total 28 columns):\n",
      "X                             13125 non-null int64\n",
      "id_tanggal_transaksi_awal     13125 non-null int64\n",
      "tanggal_transaksi_awal        13125 non-null int64\n",
      "tipe_kartu                    13125 non-null int64\n",
      "id_merchant                   13125 non-null int64\n",
      "nama_merchant                 13125 non-null int64\n",
      "tipe_mesin                    13125 non-null int64\n",
      "tipe_transaksi                13125 non-null int64\n",
      "nama_transaksi                13125 non-null int64\n",
      "nilai_transaksi               13125 non-null float64\n",
      "id_negara                     13125 non-null int64\n",
      "nama_negara                   13125 non-null int64\n",
      "nama_kota                     13125 non-null int64\n",
      "lokasi_mesin                  13125 non-null int64\n",
      "pemilik_mesin                 13125 non-null int64\n",
      "waktu_transaksi               13125 non-null int64\n",
      "kuartal_transaksi             13125 non-null int64\n",
      "kepemilikan_kartu             13125 non-null int64\n",
      "nama_channel                  13125 non-null int64\n",
      "id_channel                    13125 non-null int64\n",
      "flag_transaksi_finansial      13125 non-null bool\n",
      "status_transaksi              13125 non-null int64\n",
      "bank_pemilik_kartu            13125 non-null int64\n",
      "rata_rata_nilai_transaksi     13104 non-null float64\n",
      "maksimum_nilai_transaksi      13104 non-null float64\n",
      "minimum_nilai_transaksi       13104 non-null float64\n",
      "rata_rata_jumlah_transaksi    13104 non-null float64\n",
      "flag_transaksi_fraud          13125 non-null int64\n",
      "dtypes: bool(1), float64(5), int64(22)\n",
      "memory usage: 2.7 MB\n"
     ]
    }
   ],
   "source": [
    "df_train.info()"
   ]
  },
  {
   "cell_type": "code",
   "execution_count": 33,
   "metadata": {},
   "outputs": [
    {
     "data": {
      "text/html": [
       "<div>\n",
       "<style scoped>\n",
       "    .dataframe tbody tr th:only-of-type {\n",
       "        vertical-align: middle;\n",
       "    }\n",
       "\n",
       "    .dataframe tbody tr th {\n",
       "        vertical-align: top;\n",
       "    }\n",
       "\n",
       "    .dataframe thead th {\n",
       "        text-align: right;\n",
       "    }\n",
       "</style>\n",
       "<table border=\"1\" class=\"dataframe\">\n",
       "  <thead>\n",
       "    <tr style=\"text-align: right;\">\n",
       "      <th></th>\n",
       "      <th>X</th>\n",
       "      <th>id_tanggal_transaksi_awal</th>\n",
       "      <th>tanggal_transaksi_awal</th>\n",
       "      <th>tipe_kartu</th>\n",
       "      <th>id_merchant</th>\n",
       "      <th>nama_merchant</th>\n",
       "      <th>tipe_mesin</th>\n",
       "      <th>tipe_transaksi</th>\n",
       "      <th>nama_transaksi</th>\n",
       "      <th>nilai_transaksi</th>\n",
       "      <th>id_negara</th>\n",
       "      <th>nama_negara</th>\n",
       "      <th>nama_kota</th>\n",
       "    </tr>\n",
       "  </thead>\n",
       "  <tbody>\n",
       "    <tr>\n",
       "      <th>count</th>\n",
       "      <td>13125.0</td>\n",
       "      <td>13125.0</td>\n",
       "      <td>13125.0</td>\n",
       "      <td>13125.0</td>\n",
       "      <td>13125.0</td>\n",
       "      <td>13125.0</td>\n",
       "      <td>13125.0</td>\n",
       "      <td>13125.0</td>\n",
       "      <td>13125.0</td>\n",
       "      <td>13125.0</td>\n",
       "      <td>13125.0</td>\n",
       "      <td>13125.0</td>\n",
       "      <td>13125.0</td>\n",
       "    </tr>\n",
       "    <tr>\n",
       "      <th>mean</th>\n",
       "      <td>7508.0</td>\n",
       "      <td>2457490.0</td>\n",
       "      <td>2457541.0</td>\n",
       "      <td>85.0</td>\n",
       "      <td>39301.0</td>\n",
       "      <td>1678.0</td>\n",
       "      <td>1649037.0</td>\n",
       "      <td>179.0</td>\n",
       "      <td>11.0</td>\n",
       "      <td>1315219.0</td>\n",
       "      <td>96.0</td>\n",
       "      <td>5.0</td>\n",
       "      <td>148.0</td>\n",
       "    </tr>\n",
       "    <tr>\n",
       "      <th>std</th>\n",
       "      <td>4327.0</td>\n",
       "      <td>105.0</td>\n",
       "      <td>109.0</td>\n",
       "      <td>41.0</td>\n",
       "      <td>124188.0</td>\n",
       "      <td>361.0</td>\n",
       "      <td>991431.0</td>\n",
       "      <td>143.0</td>\n",
       "      <td>4.0</td>\n",
       "      <td>2838050.0</td>\n",
       "      <td>4.0</td>\n",
       "      <td>0.0</td>\n",
       "      <td>70.0</td>\n",
       "    </tr>\n",
       "    <tr>\n",
       "      <th>min</th>\n",
       "      <td>1.0</td>\n",
       "      <td>2457297.0</td>\n",
       "      <td>2457303.0</td>\n",
       "      <td>0.0</td>\n",
       "      <td>-2.0</td>\n",
       "      <td>2.0</td>\n",
       "      <td>-4.0</td>\n",
       "      <td>26.0</td>\n",
       "      <td>1.0</td>\n",
       "      <td>1.0</td>\n",
       "      <td>-2.0</td>\n",
       "      <td>1.0</td>\n",
       "      <td>1.0</td>\n",
       "    </tr>\n",
       "    <tr>\n",
       "      <th>25%</th>\n",
       "      <td>3784.0</td>\n",
       "      <td>2457404.0</td>\n",
       "      <td>2457451.0</td>\n",
       "      <td>93.0</td>\n",
       "      <td>-2.0</td>\n",
       "      <td>1798.0</td>\n",
       "      <td>1130699.0</td>\n",
       "      <td>26.0</td>\n",
       "      <td>9.0</td>\n",
       "      <td>200000.0</td>\n",
       "      <td>96.0</td>\n",
       "      <td>5.0</td>\n",
       "      <td>102.0</td>\n",
       "    </tr>\n",
       "    <tr>\n",
       "      <th>50%</th>\n",
       "      <td>7475.0</td>\n",
       "      <td>2457500.0</td>\n",
       "      <td>2457543.0</td>\n",
       "      <td>103.0</td>\n",
       "      <td>-2.0</td>\n",
       "      <td>1798.0</td>\n",
       "      <td>1836319.0</td>\n",
       "      <td>156.0</td>\n",
       "      <td>10.0</td>\n",
       "      <td>570000.0</td>\n",
       "      <td>96.0</td>\n",
       "      <td>5.0</td>\n",
       "      <td>128.0</td>\n",
       "    </tr>\n",
       "    <tr>\n",
       "      <th>75%</th>\n",
       "      <td>11265.0</td>\n",
       "      <td>2457581.0</td>\n",
       "      <td>2457632.0</td>\n",
       "      <td>111.0</td>\n",
       "      <td>-2.0</td>\n",
       "      <td>1798.0</td>\n",
       "      <td>2419350.0</td>\n",
       "      <td>301.0</td>\n",
       "      <td>11.0</td>\n",
       "      <td>1250000.0</td>\n",
       "      <td>96.0</td>\n",
       "      <td>5.0</td>\n",
       "      <td>203.0</td>\n",
       "    </tr>\n",
       "    <tr>\n",
       "      <th>max</th>\n",
       "      <td>15000.0</td>\n",
       "      <td>2457662.0</td>\n",
       "      <td>2457754.0</td>\n",
       "      <td>138.0</td>\n",
       "      <td>720990.0</td>\n",
       "      <td>1859.0</td>\n",
       "      <td>6928943.0</td>\n",
       "      <td>640.0</td>\n",
       "      <td>20.0</td>\n",
       "      <td>75000000.0</td>\n",
       "      <td>216.0</td>\n",
       "      <td>16.0</td>\n",
       "      <td>293.0</td>\n",
       "    </tr>\n",
       "  </tbody>\n",
       "</table>\n",
       "</div>"
      ],
      "text/plain": [
       "             X  id_tanggal_transaksi_awal  tanggal_transaksi_awal  tipe_kartu  \\\n",
       "count  13125.0                    13125.0                 13125.0     13125.0   \n",
       "mean    7508.0                  2457490.0               2457541.0        85.0   \n",
       "std     4327.0                      105.0                   109.0        41.0   \n",
       "min        1.0                  2457297.0               2457303.0         0.0   \n",
       "25%     3784.0                  2457404.0               2457451.0        93.0   \n",
       "50%     7475.0                  2457500.0               2457543.0       103.0   \n",
       "75%    11265.0                  2457581.0               2457632.0       111.0   \n",
       "max    15000.0                  2457662.0               2457754.0       138.0   \n",
       "\n",
       "       id_merchant  nama_merchant  tipe_mesin  tipe_transaksi  nama_transaksi  \\\n",
       "count      13125.0        13125.0     13125.0         13125.0         13125.0   \n",
       "mean       39301.0         1678.0   1649037.0           179.0            11.0   \n",
       "std       124188.0          361.0    991431.0           143.0             4.0   \n",
       "min           -2.0            2.0        -4.0            26.0             1.0   \n",
       "25%           -2.0         1798.0   1130699.0            26.0             9.0   \n",
       "50%           -2.0         1798.0   1836319.0           156.0            10.0   \n",
       "75%           -2.0         1798.0   2419350.0           301.0            11.0   \n",
       "max       720990.0         1859.0   6928943.0           640.0            20.0   \n",
       "\n",
       "       nilai_transaksi  id_negara  nama_negara  nama_kota  \n",
       "count          13125.0    13125.0      13125.0    13125.0  \n",
       "mean         1315219.0       96.0          5.0      148.0  \n",
       "std          2838050.0        4.0          0.0       70.0  \n",
       "min                1.0       -2.0          1.0        1.0  \n",
       "25%           200000.0       96.0          5.0      102.0  \n",
       "50%           570000.0       96.0          5.0      128.0  \n",
       "75%          1250000.0       96.0          5.0      203.0  \n",
       "max         75000000.0      216.0         16.0      293.0  "
      ]
     },
     "execution_count": 33,
     "metadata": {},
     "output_type": "execute_result"
    }
   ],
   "source": [
    "df_train.iloc[:, :13].describe().round()"
   ]
  },
  {
   "cell_type": "code",
   "execution_count": 35,
   "metadata": {},
   "outputs": [
    {
     "data": {
      "text/html": [
       "<div>\n",
       "<style scoped>\n",
       "    .dataframe tbody tr th:only-of-type {\n",
       "        vertical-align: middle;\n",
       "    }\n",
       "\n",
       "    .dataframe tbody tr th {\n",
       "        vertical-align: top;\n",
       "    }\n",
       "\n",
       "    .dataframe thead th {\n",
       "        text-align: right;\n",
       "    }\n",
       "</style>\n",
       "<table border=\"1\" class=\"dataframe\">\n",
       "  <thead>\n",
       "    <tr style=\"text-align: right;\">\n",
       "      <th></th>\n",
       "      <th>lokasi_mesin</th>\n",
       "      <th>pemilik_mesin</th>\n",
       "      <th>waktu_transaksi</th>\n",
       "      <th>kuartal_transaksi</th>\n",
       "      <th>kepemilikan_kartu</th>\n",
       "      <th>nama_channel</th>\n",
       "      <th>id_channel</th>\n",
       "      <th>status_transaksi</th>\n",
       "      <th>bank_pemilik_kartu</th>\n",
       "      <th>rata_rata_nilai_transaksi</th>\n",
       "      <th>maksimum_nilai_transaksi</th>\n",
       "      <th>minimum_nilai_transaksi</th>\n",
       "      <th>rata_rata_jumlah_transaksi</th>\n",
       "      <th>flag_transaksi_fraud</th>\n",
       "    </tr>\n",
       "  </thead>\n",
       "  <tbody>\n",
       "    <tr>\n",
       "      <th>count</th>\n",
       "      <td>13125.0</td>\n",
       "      <td>13125.0</td>\n",
       "      <td>13125.0</td>\n",
       "      <td>13125.0</td>\n",
       "      <td>13125.0</td>\n",
       "      <td>13125.0</td>\n",
       "      <td>13125.0</td>\n",
       "      <td>13125.0</td>\n",
       "      <td>13125.0</td>\n",
       "      <td>13104.0</td>\n",
       "      <td>13104.0</td>\n",
       "      <td>13104.0</td>\n",
       "      <td>13104.0</td>\n",
       "      <td>13125.0</td>\n",
       "    </tr>\n",
       "    <tr>\n",
       "      <th>mean</th>\n",
       "      <td>3948.0</td>\n",
       "      <td>766.0</td>\n",
       "      <td>138896.0</td>\n",
       "      <td>3.0</td>\n",
       "      <td>2.0</td>\n",
       "      <td>1.0</td>\n",
       "      <td>8.0</td>\n",
       "      <td>3.0</td>\n",
       "      <td>999.0</td>\n",
       "      <td>1364132.0</td>\n",
       "      <td>12287603.0</td>\n",
       "      <td>76519.0</td>\n",
       "      <td>2.0</td>\n",
       "      <td>0.0</td>\n",
       "    </tr>\n",
       "    <tr>\n",
       "      <th>std</th>\n",
       "      <td>2406.0</td>\n",
       "      <td>466.0</td>\n",
       "      <td>47873.0</td>\n",
       "      <td>1.0</td>\n",
       "      <td>0.0</td>\n",
       "      <td>1.0</td>\n",
       "      <td>2.0</td>\n",
       "      <td>0.0</td>\n",
       "      <td>0.0</td>\n",
       "      <td>1448583.0</td>\n",
       "      <td>16459046.0</td>\n",
       "      <td>676539.0</td>\n",
       "      <td>1.0</td>\n",
       "      <td>0.0</td>\n",
       "    </tr>\n",
       "    <tr>\n",
       "      <th>min</th>\n",
       "      <td>2.0</td>\n",
       "      <td>1.0</td>\n",
       "      <td>47.0</td>\n",
       "      <td>1.0</td>\n",
       "      <td>1.0</td>\n",
       "      <td>1.0</td>\n",
       "      <td>3.0</td>\n",
       "      <td>3.0</td>\n",
       "      <td>999.0</td>\n",
       "      <td>50000.0</td>\n",
       "      <td>38000.0</td>\n",
       "      <td>1.0</td>\n",
       "      <td>1.0</td>\n",
       "      <td>0.0</td>\n",
       "    </tr>\n",
       "    <tr>\n",
       "      <th>25%</th>\n",
       "      <td>1914.0</td>\n",
       "      <td>613.0</td>\n",
       "      <td>102622.0</td>\n",
       "      <td>2.0</td>\n",
       "      <td>2.0</td>\n",
       "      <td>1.0</td>\n",
       "      <td>9.0</td>\n",
       "      <td>3.0</td>\n",
       "      <td>999.0</td>\n",
       "      <td>568563.0</td>\n",
       "      <td>2500000.0</td>\n",
       "      <td>25000.0</td>\n",
       "      <td>2.0</td>\n",
       "      <td>0.0</td>\n",
       "    </tr>\n",
       "    <tr>\n",
       "      <th>50%</th>\n",
       "      <td>3720.0</td>\n",
       "      <td>613.0</td>\n",
       "      <td>140707.0</td>\n",
       "      <td>3.0</td>\n",
       "      <td>2.0</td>\n",
       "      <td>1.0</td>\n",
       "      <td>9.0</td>\n",
       "      <td>3.0</td>\n",
       "      <td>999.0</td>\n",
       "      <td>1024239.0</td>\n",
       "      <td>6000000.0</td>\n",
       "      <td>36964.0</td>\n",
       "      <td>2.0</td>\n",
       "      <td>0.0</td>\n",
       "    </tr>\n",
       "    <tr>\n",
       "      <th>75%</th>\n",
       "      <td>5637.0</td>\n",
       "      <td>613.0</td>\n",
       "      <td>175420.0</td>\n",
       "      <td>3.0</td>\n",
       "      <td>2.0</td>\n",
       "      <td>1.0</td>\n",
       "      <td>9.0</td>\n",
       "      <td>3.0</td>\n",
       "      <td>999.0</td>\n",
       "      <td>1679778.0</td>\n",
       "      <td>15000000.0</td>\n",
       "      <td>63200.0</td>\n",
       "      <td>3.0</td>\n",
       "      <td>0.0</td>\n",
       "    </tr>\n",
       "    <tr>\n",
       "      <th>max</th>\n",
       "      <td>8697.0</td>\n",
       "      <td>2688.0</td>\n",
       "      <td>235914.0</td>\n",
       "      <td>4.0</td>\n",
       "      <td>2.0</td>\n",
       "      <td>5.0</td>\n",
       "      <td>9.0</td>\n",
       "      <td>3.0</td>\n",
       "      <td>999.0</td>\n",
       "      <td>24666667.0</td>\n",
       "      <td>100000000.0</td>\n",
       "      <td>75000000.0</td>\n",
       "      <td>20.0</td>\n",
       "      <td>1.0</td>\n",
       "    </tr>\n",
       "  </tbody>\n",
       "</table>\n",
       "</div>"
      ],
      "text/plain": [
       "       lokasi_mesin  pemilik_mesin  waktu_transaksi  kuartal_transaksi  \\\n",
       "count       13125.0        13125.0          13125.0            13125.0   \n",
       "mean         3948.0          766.0         138896.0                3.0   \n",
       "std          2406.0          466.0          47873.0                1.0   \n",
       "min             2.0            1.0             47.0                1.0   \n",
       "25%          1914.0          613.0         102622.0                2.0   \n",
       "50%          3720.0          613.0         140707.0                3.0   \n",
       "75%          5637.0          613.0         175420.0                3.0   \n",
       "max          8697.0         2688.0         235914.0                4.0   \n",
       "\n",
       "       kepemilikan_kartu  nama_channel  id_channel  status_transaksi  \\\n",
       "count            13125.0       13125.0     13125.0           13125.0   \n",
       "mean                 2.0           1.0         8.0               3.0   \n",
       "std                  0.0           1.0         2.0               0.0   \n",
       "min                  1.0           1.0         3.0               3.0   \n",
       "25%                  2.0           1.0         9.0               3.0   \n",
       "50%                  2.0           1.0         9.0               3.0   \n",
       "75%                  2.0           1.0         9.0               3.0   \n",
       "max                  2.0           5.0         9.0               3.0   \n",
       "\n",
       "       bank_pemilik_kartu  rata_rata_nilai_transaksi  \\\n",
       "count             13125.0                    13104.0   \n",
       "mean                999.0                  1364132.0   \n",
       "std                   0.0                  1448583.0   \n",
       "min                 999.0                    50000.0   \n",
       "25%                 999.0                   568563.0   \n",
       "50%                 999.0                  1024239.0   \n",
       "75%                 999.0                  1679778.0   \n",
       "max                 999.0                 24666667.0   \n",
       "\n",
       "       maksimum_nilai_transaksi  minimum_nilai_transaksi  \\\n",
       "count                   13104.0                  13104.0   \n",
       "mean                 12287603.0                  76519.0   \n",
       "std                  16459046.0                 676539.0   \n",
       "min                     38000.0                      1.0   \n",
       "25%                   2500000.0                  25000.0   \n",
       "50%                   6000000.0                  36964.0   \n",
       "75%                  15000000.0                  63200.0   \n",
       "max                 100000000.0               75000000.0   \n",
       "\n",
       "       rata_rata_jumlah_transaksi  flag_transaksi_fraud  \n",
       "count                     13104.0               13125.0  \n",
       "mean                          2.0                   0.0  \n",
       "std                           1.0                   0.0  \n",
       "min                           1.0                   0.0  \n",
       "25%                           2.0                   0.0  \n",
       "50%                           2.0                   0.0  \n",
       "75%                           3.0                   0.0  \n",
       "max                          20.0                   1.0  "
      ]
     },
     "execution_count": 35,
     "metadata": {},
     "output_type": "execute_result"
    }
   ],
   "source": [
    "df_train.iloc[:, 13:28].describe().round()"
   ]
  },
  {
   "cell_type": "code",
   "execution_count": 36,
   "metadata": {},
   "outputs": [
    {
     "data": {
      "text/plain": [
       "-2         11307\n",
       " 161601        9\n",
       " 123189        8\n",
       " 553188        8\n",
       " 524899        7\n",
       " 531225        6\n",
       " 51625         6\n",
       " 209105        6\n",
       " 36481         6\n",
       " 642400        6\n",
       " 603443        5\n",
       " 697578        5\n",
       " 382698        5\n",
       " 496151        5\n",
       " 449171        5\n",
       " 29802         5\n",
       " 413720        5\n",
       " 42375         5\n",
       " 209077        5\n",
       " 61023         5\n",
       " 73176         5\n",
       " 71041         5\n",
       " 572293        4\n",
       " 200705        4\n",
       " 167191        4\n",
       " 401431        4\n",
       " 462191        4\n",
       " 642569        4\n",
       " 424508        4\n",
       " 374848        4\n",
       "           ...  \n",
       " 117773        1\n",
       " 50132         1\n",
       " 33716         1\n",
       " 411148        1\n",
       " 28201         1\n",
       " 163893        1\n",
       " 300878        1\n",
       " 677926        1\n",
       " 73761         1\n",
       " 112658        1\n",
       " 190480        1\n",
       " 389131        1\n",
       " 112626        1\n",
       " 104414        1\n",
       " 440266        1\n",
       " 57223         1\n",
       " 438097        1\n",
       " 177978        1\n",
       " 286255        1\n",
       " 513830        1\n",
       " 472866        1\n",
       " 304904        1\n",
       " 298749        1\n",
       " 118453        1\n",
       " 93865         1\n",
       " 106087        1\n",
       " 267854        1\n",
       " 542276        1\n",
       " 110137        1\n",
       " 364546        1\n",
       "Name: id_merchant, Length: 1122, dtype: int64"
      ]
     },
     "execution_count": 36,
     "metadata": {},
     "output_type": "execute_result"
    }
   ],
   "source": [
    "df_train.id_merchant.value_counts()"
   ]
  },
  {
   "cell_type": "code",
   "execution_count": 37,
   "metadata": {},
   "outputs": [
    {
     "data": {
      "text/plain": [
       "-3          883\n",
       " 1529252     30\n",
       " 1919585     25\n",
       " 1222429     23\n",
       " 502272      21\n",
       " 1564130     19\n",
       " 1959973     18\n",
       " 2849097     18\n",
       " 1192143     17\n",
       " 357028      17\n",
       " 1944883     17\n",
       " 334508      16\n",
       " 1804832     16\n",
       " 1455294     16\n",
       " 2432939     15\n",
       " 2148930     15\n",
       " 2018536     15\n",
       " 2044389     15\n",
       " 2132716     15\n",
       " 2309778     15\n",
       " 1289502     15\n",
       " 2421258     14\n",
       " 2337114     14\n",
       " 2448890     14\n",
       " 2812417     14\n",
       " 1154046     14\n",
       " 2376195     13\n",
       " 2069723     13\n",
       " 2751069     13\n",
       " 2348934     13\n",
       "           ... \n",
       " 1589301      1\n",
       " 2689421      1\n",
       " 2796153      1\n",
       " 2423315      1\n",
       " 90648        1\n",
       " 3216070      1\n",
       " 3175018      1\n",
       " 2155200      1\n",
       " 3005119      1\n",
       " 700          1\n",
       " 2882219      1\n",
       " 3115685      1\n",
       " 82596        1\n",
       " 1180308      1\n",
       " 2157201      1\n",
       " 1575557      1\n",
       " 2669171      1\n",
       " 2724446      1\n",
       " 510493       1\n",
       " 2525789      1\n",
       " 2601562      1\n",
       " 2550361      1\n",
       " 2404930      1\n",
       " 3091009      1\n",
       " 3291707      1\n",
       " 1782330      1\n",
       " 3024060      1\n",
       " 90664        1\n",
       " 2802212      1\n",
       " 2426881      1\n",
       "Name: tipe_mesin, Length: 5341, dtype: int64"
      ]
     },
     "execution_count": 37,
     "metadata": {},
     "output_type": "execute_result"
    }
   ],
   "source": [
    "df_train.tipe_mesin.value_counts()"
   ]
  },
  {
   "cell_type": "code",
   "execution_count": 39,
   "metadata": {},
   "outputs": [
    {
     "data": {
      "text/plain": [
       " 96     13081\n",
       " 73        11\n",
       " 149       10\n",
       " 104        5\n",
       "-2          4\n",
       " 157        3\n",
       " 216        3\n",
       " 188        2\n",
       " 168        2\n",
       " 183        1\n",
       " 45         1\n",
       " 57         1\n",
       " 64         1\n",
       "Name: id_negara, dtype: int64"
      ]
     },
     "execution_count": 39,
     "metadata": {},
     "output_type": "execute_result"
    }
   ],
   "source": [
    "df_train.id_negara.value_counts()"
   ]
  },
  {
   "cell_type": "code",
   "execution_count": 42,
   "metadata": {},
   "outputs": [],
   "source": [
    "df_train['id_merchant']=df_train['id_merchant'].apply(lambda row : 'odd' if row<0 else 'normal')\n",
    "df_train['tipe_mesin'] = df_train['tipe_mesin'].apply(lambda row : 'odd' if row <= 0 else 'normal')"
   ]
  },
  {
   "cell_type": "code",
   "execution_count": 43,
   "metadata": {},
   "outputs": [
    {
     "data": {
      "text/plain": [
       "X                             8793\n",
       "id_tanggal_transaksi_awal      360\n",
       "tanggal_transaksi_awal         452\n",
       "tipe_kartu                      14\n",
       "id_merchant                      2\n",
       "nama_merchant                 1105\n",
       "tipe_mesin                       2\n",
       "tipe_transaksi                  20\n",
       "nama_transaksi                  20\n",
       "nilai_transaksi               1425\n",
       "id_negara                       13\n",
       "nama_negara                     12\n",
       "nama_kota                      229\n",
       "lokasi_mesin                  5814\n",
       "pemilik_mesin                 1666\n",
       "waktu_transaksi               7952\n",
       "kuartal_transaksi                4\n",
       "kepemilikan_kartu                2\n",
       "nama_channel                     5\n",
       "id_channel                       4\n",
       "flag_transaksi_finansial         1\n",
       "status_transaksi                 1\n",
       "bank_pemilik_kartu               1\n",
       "rata_rata_nilai_transaksi     3090\n",
       "maksimum_nilai_transaksi       804\n",
       "minimum_nilai_transaksi        754\n",
       "rata_rata_jumlah_transaksi     371\n",
       "flag_transaksi_fraud             2\n",
       "dtype: int64"
      ]
     },
     "execution_count": 43,
     "metadata": {},
     "output_type": "execute_result"
    }
   ],
   "source": [
    "df_train.nunique()"
   ]
  },
  {
   "cell_type": "code",
   "execution_count": 44,
   "metadata": {},
   "outputs": [],
   "source": [
    "#Drop Redundant feature and unrelevant feature\n",
    "\n",
    "df_train = df_train.drop(['id_tanggal_transaksi_awal', 'tanggal_transaksi_awal', 'id_negara', 'nama_negara', 'lokasi_mesin',\n",
    "              'nama_merchant', 'pemilik_mesin', 'nama_transaksi', 'id_channel', 'tipe_kartu'], axis=1)"
   ]
  },
  {
   "cell_type": "code",
   "execution_count": 22,
   "metadata": {},
   "outputs": [
    {
     "data": {
      "text/plain": [
       "(13125, 18)"
      ]
     },
     "execution_count": 22,
     "metadata": {},
     "output_type": "execute_result"
    }
   ],
   "source": [
    "df_train.shape"
   ]
  },
  {
   "cell_type": "code",
   "execution_count": 45,
   "metadata": {},
   "outputs": [
    {
     "data": {
      "text/html": [
       "<div>\n",
       "<style scoped>\n",
       "    .dataframe tbody tr th:only-of-type {\n",
       "        vertical-align: middle;\n",
       "    }\n",
       "\n",
       "    .dataframe tbody tr th {\n",
       "        vertical-align: top;\n",
       "    }\n",
       "\n",
       "    .dataframe thead th {\n",
       "        text-align: right;\n",
       "    }\n",
       "</style>\n",
       "<table border=\"1\" class=\"dataframe\">\n",
       "  <thead>\n",
       "    <tr style=\"text-align: right;\">\n",
       "      <th></th>\n",
       "      <th>X</th>\n",
       "      <th>tipe_transaksi</th>\n",
       "      <th>nilai_transaksi</th>\n",
       "      <th>nama_kota</th>\n",
       "      <th>waktu_transaksi</th>\n",
       "      <th>kuartal_transaksi</th>\n",
       "      <th>kepemilikan_kartu</th>\n",
       "      <th>nama_channel</th>\n",
       "      <th>status_transaksi</th>\n",
       "      <th>bank_pemilik_kartu</th>\n",
       "      <th>rata_rata_nilai_transaksi</th>\n",
       "      <th>maksimum_nilai_transaksi</th>\n",
       "      <th>minimum_nilai_transaksi</th>\n",
       "      <th>rata_rata_jumlah_transaksi</th>\n",
       "      <th>flag_transaksi_fraud</th>\n",
       "    </tr>\n",
       "  </thead>\n",
       "  <tbody>\n",
       "    <tr>\n",
       "      <th>count</th>\n",
       "      <td>13125.0</td>\n",
       "      <td>13125.0</td>\n",
       "      <td>13125.0</td>\n",
       "      <td>13125.0</td>\n",
       "      <td>13125.0</td>\n",
       "      <td>13125.0</td>\n",
       "      <td>13125.0</td>\n",
       "      <td>13125.0</td>\n",
       "      <td>13125.0</td>\n",
       "      <td>13125.0</td>\n",
       "      <td>13104.0</td>\n",
       "      <td>13104.0</td>\n",
       "      <td>13104.0</td>\n",
       "      <td>13104.0</td>\n",
       "      <td>13125.0</td>\n",
       "    </tr>\n",
       "    <tr>\n",
       "      <th>mean</th>\n",
       "      <td>7508.0</td>\n",
       "      <td>179.0</td>\n",
       "      <td>1315219.0</td>\n",
       "      <td>148.0</td>\n",
       "      <td>138896.0</td>\n",
       "      <td>3.0</td>\n",
       "      <td>2.0</td>\n",
       "      <td>1.0</td>\n",
       "      <td>3.0</td>\n",
       "      <td>999.0</td>\n",
       "      <td>1364132.0</td>\n",
       "      <td>12287603.0</td>\n",
       "      <td>76519.0</td>\n",
       "      <td>2.0</td>\n",
       "      <td>0.0</td>\n",
       "    </tr>\n",
       "    <tr>\n",
       "      <th>std</th>\n",
       "      <td>4327.0</td>\n",
       "      <td>143.0</td>\n",
       "      <td>2838050.0</td>\n",
       "      <td>70.0</td>\n",
       "      <td>47873.0</td>\n",
       "      <td>1.0</td>\n",
       "      <td>0.0</td>\n",
       "      <td>1.0</td>\n",
       "      <td>0.0</td>\n",
       "      <td>0.0</td>\n",
       "      <td>1448583.0</td>\n",
       "      <td>16459046.0</td>\n",
       "      <td>676539.0</td>\n",
       "      <td>1.0</td>\n",
       "      <td>0.0</td>\n",
       "    </tr>\n",
       "    <tr>\n",
       "      <th>min</th>\n",
       "      <td>1.0</td>\n",
       "      <td>26.0</td>\n",
       "      <td>1.0</td>\n",
       "      <td>1.0</td>\n",
       "      <td>47.0</td>\n",
       "      <td>1.0</td>\n",
       "      <td>1.0</td>\n",
       "      <td>1.0</td>\n",
       "      <td>3.0</td>\n",
       "      <td>999.0</td>\n",
       "      <td>50000.0</td>\n",
       "      <td>38000.0</td>\n",
       "      <td>1.0</td>\n",
       "      <td>1.0</td>\n",
       "      <td>0.0</td>\n",
       "    </tr>\n",
       "    <tr>\n",
       "      <th>25%</th>\n",
       "      <td>3784.0</td>\n",
       "      <td>26.0</td>\n",
       "      <td>200000.0</td>\n",
       "      <td>102.0</td>\n",
       "      <td>102622.0</td>\n",
       "      <td>2.0</td>\n",
       "      <td>2.0</td>\n",
       "      <td>1.0</td>\n",
       "      <td>3.0</td>\n",
       "      <td>999.0</td>\n",
       "      <td>568563.0</td>\n",
       "      <td>2500000.0</td>\n",
       "      <td>25000.0</td>\n",
       "      <td>2.0</td>\n",
       "      <td>0.0</td>\n",
       "    </tr>\n",
       "    <tr>\n",
       "      <th>50%</th>\n",
       "      <td>7475.0</td>\n",
       "      <td>156.0</td>\n",
       "      <td>570000.0</td>\n",
       "      <td>128.0</td>\n",
       "      <td>140707.0</td>\n",
       "      <td>3.0</td>\n",
       "      <td>2.0</td>\n",
       "      <td>1.0</td>\n",
       "      <td>3.0</td>\n",
       "      <td>999.0</td>\n",
       "      <td>1024239.0</td>\n",
       "      <td>6000000.0</td>\n",
       "      <td>36964.0</td>\n",
       "      <td>2.0</td>\n",
       "      <td>0.0</td>\n",
       "    </tr>\n",
       "    <tr>\n",
       "      <th>75%</th>\n",
       "      <td>11265.0</td>\n",
       "      <td>301.0</td>\n",
       "      <td>1250000.0</td>\n",
       "      <td>203.0</td>\n",
       "      <td>175420.0</td>\n",
       "      <td>3.0</td>\n",
       "      <td>2.0</td>\n",
       "      <td>1.0</td>\n",
       "      <td>3.0</td>\n",
       "      <td>999.0</td>\n",
       "      <td>1679778.0</td>\n",
       "      <td>15000000.0</td>\n",
       "      <td>63200.0</td>\n",
       "      <td>3.0</td>\n",
       "      <td>0.0</td>\n",
       "    </tr>\n",
       "    <tr>\n",
       "      <th>max</th>\n",
       "      <td>15000.0</td>\n",
       "      <td>640.0</td>\n",
       "      <td>75000000.0</td>\n",
       "      <td>293.0</td>\n",
       "      <td>235914.0</td>\n",
       "      <td>4.0</td>\n",
       "      <td>2.0</td>\n",
       "      <td>5.0</td>\n",
       "      <td>3.0</td>\n",
       "      <td>999.0</td>\n",
       "      <td>24666667.0</td>\n",
       "      <td>100000000.0</td>\n",
       "      <td>75000000.0</td>\n",
       "      <td>20.0</td>\n",
       "      <td>1.0</td>\n",
       "    </tr>\n",
       "  </tbody>\n",
       "</table>\n",
       "</div>"
      ],
      "text/plain": [
       "             X  tipe_transaksi  nilai_transaksi  nama_kota  waktu_transaksi  \\\n",
       "count  13125.0         13125.0          13125.0    13125.0          13125.0   \n",
       "mean    7508.0           179.0        1315219.0      148.0         138896.0   \n",
       "std     4327.0           143.0        2838050.0       70.0          47873.0   \n",
       "min        1.0            26.0              1.0        1.0             47.0   \n",
       "25%     3784.0            26.0         200000.0      102.0         102622.0   \n",
       "50%     7475.0           156.0         570000.0      128.0         140707.0   \n",
       "75%    11265.0           301.0        1250000.0      203.0         175420.0   \n",
       "max    15000.0           640.0       75000000.0      293.0         235914.0   \n",
       "\n",
       "       kuartal_transaksi  kepemilikan_kartu  nama_channel  status_transaksi  \\\n",
       "count            13125.0            13125.0       13125.0           13125.0   \n",
       "mean                 3.0                2.0           1.0               3.0   \n",
       "std                  1.0                0.0           1.0               0.0   \n",
       "min                  1.0                1.0           1.0               3.0   \n",
       "25%                  2.0                2.0           1.0               3.0   \n",
       "50%                  3.0                2.0           1.0               3.0   \n",
       "75%                  3.0                2.0           1.0               3.0   \n",
       "max                  4.0                2.0           5.0               3.0   \n",
       "\n",
       "       bank_pemilik_kartu  rata_rata_nilai_transaksi  \\\n",
       "count             13125.0                    13104.0   \n",
       "mean                999.0                  1364132.0   \n",
       "std                   0.0                  1448583.0   \n",
       "min                 999.0                    50000.0   \n",
       "25%                 999.0                   568563.0   \n",
       "50%                 999.0                  1024239.0   \n",
       "75%                 999.0                  1679778.0   \n",
       "max                 999.0                 24666667.0   \n",
       "\n",
       "       maksimum_nilai_transaksi  minimum_nilai_transaksi  \\\n",
       "count                   13104.0                  13104.0   \n",
       "mean                 12287603.0                  76519.0   \n",
       "std                  16459046.0                 676539.0   \n",
       "min                     38000.0                      1.0   \n",
       "25%                   2500000.0                  25000.0   \n",
       "50%                   6000000.0                  36964.0   \n",
       "75%                  15000000.0                  63200.0   \n",
       "max                 100000000.0               75000000.0   \n",
       "\n",
       "       rata_rata_jumlah_transaksi  flag_transaksi_fraud  \n",
       "count                     13104.0               13125.0  \n",
       "mean                          2.0                   0.0  \n",
       "std                           1.0                   0.0  \n",
       "min                           1.0                   0.0  \n",
       "25%                           2.0                   0.0  \n",
       "50%                           2.0                   0.0  \n",
       "75%                           3.0                   0.0  \n",
       "max                          20.0                   1.0  "
      ]
     },
     "execution_count": 45,
     "metadata": {},
     "output_type": "execute_result"
    }
   ],
   "source": [
    "df_train.describe().round()"
   ]
  },
  {
   "cell_type": "code",
   "execution_count": 48,
   "metadata": {},
   "outputs": [],
   "source": [
    "#multicollinearity\n",
    "df_train.drop(['status_transaksi', 'bank_pemilik_kartu'], axis=1, inplace=True)"
   ]
  },
  {
   "cell_type": "code",
   "execution_count": 55,
   "metadata": {},
   "outputs": [],
   "source": [
    "df_train['kepemilikan_kartu'] = df_train['kepemilikan_kartu'].astype('category')\n",
    "df_train['nama_channel'] = df_train['nama_channel'].astype('category')\n",
    "df_train['id_merchant'] = df_train['id_merchant'].astype('category')\n",
    "df_train['tipe_transaksi'] = df_train['tipe_transaksi'].astype('category')\n",
    "df_train['nama_kota'] = df_train['nama_kota'].astype('category')\n",
    "df_train['tipe_mesin'] = df_train['tipe_mesin'].astype('category')\n",
    "df_train['kuartal_transaksi'] = df_train['kuartal_transaksi'].astype('category')"
   ]
  },
  {
   "cell_type": "code",
   "execution_count": 58,
   "metadata": {},
   "outputs": [
    {
     "name": "stdout",
     "output_type": "stream",
     "text": [
      "<class 'pandas.core.frame.DataFrame'>\n",
      "RangeIndex: 13125 entries, 0 to 13124\n",
      "Data columns (total 16 columns):\n",
      "X                             13125 non-null int64\n",
      "id_merchant                   13125 non-null category\n",
      "tipe_mesin                    13125 non-null category\n",
      "tipe_transaksi                13125 non-null category\n",
      "nilai_transaksi               13125 non-null float64\n",
      "nama_kota                     13125 non-null category\n",
      "waktu_transaksi               13125 non-null int64\n",
      "kuartal_transaksi             13125 non-null category\n",
      "kepemilikan_kartu             13125 non-null category\n",
      "nama_channel                  13125 non-null category\n",
      "flag_transaksi_finansial      13125 non-null bool\n",
      "rata_rata_nilai_transaksi     13104 non-null float64\n",
      "maksimum_nilai_transaksi      13104 non-null float64\n",
      "minimum_nilai_transaksi       13104 non-null float64\n",
      "rata_rata_jumlah_transaksi    13104 non-null float64\n",
      "flag_transaksi_fraud          13125 non-null int32\n",
      "dtypes: bool(1), category(7), float64(5), int32(1), int64(2)\n",
      "memory usage: 897.7 KB\n"
     ]
    }
   ],
   "source": [
    "df_train.info()"
   ]
  },
  {
   "cell_type": "code",
   "execution_count": 60,
   "metadata": {},
   "outputs": [],
   "source": [
    "sum_x_fraud = df_train.groupby('X')['flag_transaksi_fraud'].sum()"
   ]
  },
  {
   "cell_type": "code",
   "execution_count": 69,
   "metadata": {},
   "outputs": [],
   "source": [
    "df_train = df_train.join(sum_x_fraud, how='left', on='X', lsuffix='', rsuffix='_sum_x')"
   ]
  },
  {
   "cell_type": "code",
   "execution_count": 74,
   "metadata": {},
   "outputs": [
    {
     "data": {
      "image/png": "[encoded data removed]",
      "text/plain": [
       "<matplotlib.figure.Figure at 0x1fe9669c978>"
      ]
     },
     "metadata": {},
     "output_type": "display_data"
    }
   ],
   "source": [
    "plt.figure(figsize=(15, 10))\n",
    "sns.heatmap(df_train.corr(), annot=True, linewidth=0.4)\n",
    "plt.show()"
   ]
  },
  {
   "cell_type": "code",
   "execution_count": 77,
   "metadata": {},
   "outputs": [],
   "source": [
    "df_train.drop('X', axis=1, inplace=True)"
   ]
  },
  {
   "cell_type": "code",
   "execution_count": 90,
   "metadata": {},
   "outputs": [
    {
     "data": {
      "image/png": "[encoded data removed]",
      "text/plain": [
       "<matplotlib.figure.Figure at 0x1fe9f1b2e10>"
      ]
     },
     "metadata": {},
     "output_type": "display_data"
    }
   ],
   "source": [
    "sns.lmplot('rata_rata_nilai_transaksi', 'nilai_transaksi', data=df_train, hue='flag_transaksi_fraud')\n",
    "plt.show()"
   ]
  },
  {
   "cell_type": "code",
   "execution_count": 91,
   "metadata": {},
   "outputs": [
    {
     "data": {
      "image/png": "[encoded data removed]",
      "text/plain": [
       "<matplotlib.figure.Figure at 0x1fea8042400>"
      ]
     },
     "metadata": {},
     "output_type": "display_data"
    }
   ],
   "source": [
    "sns.lmplot('rata_rata_nilai_transaksi', 'maksimum_nilai_transaksi', data=df_train, hue='flag_transaksi_fraud')\n",
    "plt.show()"
   ]
  },
  {
   "cell_type": "code",
   "execution_count": 92,
   "metadata": {},
   "outputs": [
    {
     "data": {
      "text/plain": [
       "id_merchant                    0\n",
       "tipe_mesin                     0\n",
       "tipe_transaksi                 0\n",
       "nilai_transaksi                0\n",
       "nama_kota                      0\n",
       "waktu_transaksi                0\n",
       "kuartal_transaksi              0\n",
       "kepemilikan_kartu              0\n",
       "nama_channel                   0\n",
       "flag_transaksi_finansial       0\n",
       "rata_rata_nilai_transaksi     21\n",
       "maksimum_nilai_transaksi      21\n",
       "minimum_nilai_transaksi       21\n",
       "rata_rata_jumlah_transaksi    21\n",
       "flag_transaksi_fraud           0\n",
       "flag_transaksi_fraud_sum_x     0\n",
       "dtype: int64"
      ]
     },
     "execution_count": 92,
     "metadata": {},
     "output_type": "execute_result"
    }
   ],
   "source": [
    "df_train.isnull().sum()"
   ]
  },
  {
   "cell_type": "code",
   "execution_count": 100,
   "metadata": {},
   "outputs": [],
   "source": [
    "numeric =['nilai_transaksi',\n",
    " 'waktu_transaksi',\n",
    " 'rata_rata_nilai_transaksi',\n",
    " 'maksimum_nilai_transaksi',\n",
    " 'minimum_nilai_transaksi',\n",
    " 'rata_rata_jumlah_transaksi']"
   ]
  },
  {
   "cell_type": "code",
   "execution_count": 106,
   "metadata": {},
   "outputs": [
    {
     "data": {
      "image/png": "[encoded data removed]",
      "text/plain": [
       "<matplotlib.figure.Figure at 0x1fea360eb38>"
      ]
     },
     "metadata": {},
     "output_type": "display_data"
    },
    {
     "data": {
      "image/png": "[encoded data removed]",
      "text/plain": [
       "<matplotlib.figure.Figure at 0x1fea38ba860>"
      ]
     },
     "metadata": {},
     "output_type": "display_data"
    },
    {
     "data": {
      "image/png": "[encoded data removed]",
      "text/plain": [
       "<matplotlib.figure.Figure at 0x1fea35d02e8>"
      ]
     },
     "metadata": {},
     "output_type": "display_data"
    },
    {
     "data": {
      "image/png": "[encoded data removed]",
      "text/plain": [
       "<matplotlib.figure.Figure at 0x1fea4b4ad30>"
      ]
     },
     "metadata": {},
     "output_type": "display_data"
    },
    {
     "data": {
      "image/png": "[encoded data removed]",
      "text/plain": [
       "<matplotlib.figure.Figure at 0x1fea4b6cd30>"
      ]
     },
     "metadata": {},
     "output_type": "display_data"
    },
    {
     "data": {
      "image/png": "[encoded data removed]",
      "text/plain": [
       "<matplotlib.figure.Figure at 0x1fe9b683518>"
      ]
     },
     "metadata": {},
     "output_type": "display_data"
    }
   ],
   "source": [
    "for col in numeric :\n",
    "    sns.distplot(df_train[col].dropna())\n",
    "    plt.show()"
   ]
  },
  {
   "cell_type": "code",
   "execution_count": 118,
   "metadata": {},
   "outputs": [
    {
     "data": {
      "image/png": "[encoded data removed]",
      "text/plain": [
       "<matplotlib.figure.Figure at 0x1fe967ad5c0>"
      ]
     },
     "metadata": {},
     "output_type": "display_data"
    }
   ],
   "source": [
    "sns.countplot(df_train.flag_transaksi_fraud)\n",
    "plt.show()"
   ]
  },
  {
   "cell_type": "code",
   "execution_count": 120,
   "metadata": {},
   "outputs": [
    {
     "data": {
      "text/plain": [
       "0    93.066667\n",
       "1     6.933333\n",
       "Name: flag_transaksi_fraud, dtype: float64"
      ]
     },
     "execution_count": 120,
     "metadata": {},
     "output_type": "execute_result"
    }
   ],
   "source": [
    "(df_train.flag_transaksi_fraud.value_counts()/len(df_train))*100"
   ]
  },
  {
   "cell_type": "code",
   "execution_count": 93,
   "metadata": {},
   "outputs": [
    {
     "data": {
      "application/json": {
       "cell": {
        "!": "OSMagics",
        "HTML": "Other",
        "SVG": "Other",
        "bash": "Other",
        "capture": "ExecutionMagics",
        "cmd": "Other",
        "debug": "ExecutionMagics",
        "file": "Other",
        "html": "DisplayMagics",
        "javascript": "DisplayMagics",
        "js": "DisplayMagics",
        "latex": "DisplayMagics",
        "markdown": "DisplayMagics",
        "perl": "Other",
        "prun": "ExecutionMagics",
        "pypy": "Other",
        "python": "Other",
        "python2": "Other",
        "python3": "Other",
        "ruby": "Other",
        "script": "ScriptMagics",
        "sh": "Other",
        "svg": "DisplayMagics",
        "sx": "OSMagics",
        "system": "OSMagics",
        "time": "ExecutionMagics",
        "timeit": "ExecutionMagics",
        "writefile": "OSMagics"
       },
       "line": {
        "alias": "OSMagics",
        "alias_magic": "BasicMagics",
        "autocall": "AutoMagics",
        "automagic": "AutoMagics",
        "autosave": "KernelMagics",
        "bookmark": "OSMagics",
        "cd": "OSMagics",
        "clear": "KernelMagics",
        "cls": "KernelMagics",
        "colors": "BasicMagics",
        "config": "ConfigMagics",
        "connect_info": "KernelMagics",
        "copy": "Other",
        "ddir": "Other",
        "debug": "ExecutionMagics",
        "dhist": "OSMagics",
        "dirs": "OSMagics",
        "doctest_mode": "BasicMagics",
        "echo": "Other",
        "ed": "Other",
        "edit": "KernelMagics",
        "env": "OSMagics",
        "gui": "BasicMagics",
        "hist": "Other",
        "history": "HistoryMagics",
        "killbgscripts": "ScriptMagics",
        "ldir": "Other",
        "less": "KernelMagics",
        "load": "CodeMagics",
        "load_ext": "ExtensionMagics",
        "loadpy": "CodeMagics",
        "logoff": "LoggingMagics",
        "logon": "LoggingMagics",
        "logstart": "LoggingMagics",
        "logstate": "LoggingMagics",
        "logstop": "LoggingMagics",
        "ls": "Other",
        "lsmagic": "BasicMagics",
        "macro": "ExecutionMagics",
        "magic": "BasicMagics",
        "matplotlib": "PylabMagics",
        "mkdir": "Other",
        "more": "KernelMagics",
        "notebook": "BasicMagics",
        "page": "BasicMagics",
        "pastebin": "CodeMagics",
        "pdb": "ExecutionMagics",
        "pdef": "NamespaceMagics",
        "pdoc": "NamespaceMagics",
        "pfile": "NamespaceMagics",
        "pinfo": "NamespaceMagics",
        "pinfo2": "NamespaceMagics",
        "pip": "BasicMagics",
        "popd": "OSMagics",
        "pprint": "BasicMagics",
        "precision": "BasicMagics",
        "profile": "BasicMagics",
        "prun": "ExecutionMagics",
        "psearch": "NamespaceMagics",
        "psource": "NamespaceMagics",
        "pushd": "OSMagics",
        "pwd": "OSMagics",
        "pycat": "OSMagics",
        "pylab": "PylabMagics",
        "qtconsole": "KernelMagics",
        "quickref": "BasicMagics",
        "recall": "HistoryMagics",
        "rehashx": "OSMagics",
        "reload_ext": "ExtensionMagics",
        "ren": "Other",
        "rep": "Other",
        "rerun": "HistoryMagics",
        "reset": "NamespaceMagics",
        "reset_selective": "NamespaceMagics",
        "rmdir": "Other",
        "run": "ExecutionMagics",
        "save": "CodeMagics",
        "sc": "OSMagics",
        "set_env": "OSMagics",
        "store": "StoreMagics",
        "sx": "OSMagics",
        "system": "OSMagics",
        "tb": "ExecutionMagics",
        "time": "ExecutionMagics",
        "timeit": "ExecutionMagics",
        "unalias": "OSMagics",
        "unload_ext": "ExtensionMagics",
        "who": "NamespaceMagics",
        "who_ls": "NamespaceMagics",
        "whos": "NamespaceMagics",
        "xdel": "NamespaceMagics",
        "xmode": "BasicMagics"
       }
      },
      "text/plain": [
       "Available line magics:\n",
       "%alias  %alias_magic  %autocall  %automagic  %autosave  %bookmark  %cd  %clear  %cls  %colors  %config  %connect_info  %copy  %ddir  %debug  %dhist  %dirs  %doctest_mode  %echo  %ed  %edit  %env  %gui  %hist  %history  %killbgscripts  %ldir  %less  %load  %load_ext  %loadpy  %logoff  %logon  %logstart  %logstate  %logstop  %ls  %lsmagic  %macro  %magic  %matplotlib  %mkdir  %more  %notebook  %page  %pastebin  %pdb  %pdef  %pdoc  %pfile  %pinfo  %pinfo2  %popd  %pprint  %precision  %profile  %prun  %psearch  %psource  %pushd  %pwd  %pycat  %pylab  %qtconsole  %quickref  %recall  %rehashx  %reload_ext  %ren  %rep  %rerun  %reset  %reset_selective  %rmdir  %run  %save  %sc  %set_env  %store  %sx  %system  %tb  %time  %timeit  %unalias  %unload_ext  %who  %who_ls  %whos  %xdel  %xmode\n",
       "\n",
       "Available cell magics:\n",
       "%%!  %%HTML  %%SVG  %%bash  %%capture  %%cmd  %%debug  %%file  %%html  %%javascript  %%js  %%latex  %%markdown  %%perl  %%prun  %%pypy  %%python  %%python2  %%python3  %%ruby  %%script  %%sh  %%svg  %%sx  %%system  %%time  %%timeit  %%writefile\n",
       "\n",
       "Automagic is ON, % prefix IS NOT needed for line magics."
      ]
     },
     "execution_count": 93,
     "metadata": {},
     "output_type": "execute_result"
    }
   ],
   "source": [
    "%lsmagic"
   ]
  },
  {
   "cell_type": "code",
   "execution_count": 107,
   "metadata": {},
   "outputs": [
    {
     "name": "stdout",
     "output_type": "stream",
     "text": [
      "TSNE\t col\t df_train\t np\t numeric\t pd\t plt\t sns\t sum_x_fraud\t \n",
      "tsne_feature\t vis_2d\t xs\t ys\t \n"
     ]
    }
   ],
   "source": [
    "%who"
   ]
  },
  {
   "cell_type": "code",
   "execution_count": 214,
   "metadata": {},
   "outputs": [],
   "source": [
    "df_train.flag_transaksi_finansial = df_train.flag_transaksi_finansial.astype('category')\n",
    "df_train.to_csv('train_done_prepare.csv')"
   ]
  },
  {
   "cell_type": "markdown",
   "metadata": {},
   "source": [
    "## Data Preparation And Modeling"
   ]
  },
  {
   "cell_type": "markdown",
   "metadata": {},
   "source": [
    "### Logistic Regression with Weighting"
   ]
  },
  {
   "cell_type": "code",
   "execution_count": 138,
   "metadata": {},
   "outputs": [],
   "source": [
    "\"\"\"Imputing Missing Value\"\"\"\n",
    "\n",
    "col_missing = ['rata_rata_nilai_transaksi', 'maksimum_nilai_transaksi', 'minimum_nilai_transaksi', 'rata_rata_jumlah_transaksi']\n",
    "\n",
    "for col in col_missing :\n",
    "    df_train[col] = df_train[col].fillna(df_train[col].mean())"
   ]
  },
  {
   "cell_type": "code",
   "execution_count": 139,
   "metadata": {},
   "outputs": [
    {
     "data": {
      "text/plain": [
       "const                         13.202072\n",
       "nilai_transaksi                1.237574\n",
       "waktu_transaksi                1.002043\n",
       "rata_rata_nilai_transaksi      2.243985\n",
       "maksimum_nilai_transaksi       1.969483\n",
       "minimum_nilai_transaksi        1.056512\n",
       "rata_rata_jumlah_transaksi     1.109100\n",
       "flag_transaksi_fraud_sum_x     1.013610\n",
       "dtype: float64"
      ]
     },
     "execution_count": 139,
     "metadata": {},
     "output_type": "execute_result"
    }
   ],
   "source": [
    "\"\"\"CHECK FOR MULTICOLINEARITY\"\"\"\n",
    "\n",
    "from statsmodels.stats.outliers_influence import variance_inflation_factor\n",
    "from statsmodels.tools.tools import add_constant\n",
    "\n",
    "train = df_train.drop('flag_transaksi_fraud', axis=1)\n",
    "\n",
    "numeric_train = df_train[numeric + ['flag_transaksi_fraud_sum_x']]\n",
    "X = add_constant(numeric_train)\n",
    "\n",
    "pd.Series([variance_inflation_factor(X.values, i) \n",
    "               for i in range(X.shape[1])], \n",
    "              index=X.columns)"
   ]
  },
  {
   "cell_type": "code",
   "execution_count": 149,
   "metadata": {},
   "outputs": [],
   "source": [
    "from sklearn.feature_selection import RFECV\n",
    "from sklearn.linear_model import LogisticRegression\n",
    "from sklearn.preprocessing import RobustScaler\n",
    "from sklearn.pipeline import Pipeline\n",
    "\n",
    "y = df_train.flag_transaksi_fraud\n",
    "X = pd.get_dummies(train, drop_first=True)\n",
    "scaler = RobustScaler()\n",
    "lr = LogisticRegression(penalty='l1')\n",
    "rfecv = RFECV(lr, cv=5, scoring='roc_auc', n_jobs=-1)\n",
    "\n",
    "pipe = Pipeline([('scaler',scaler), ('rfecv', rfecv)])\n",
    "result = pipe.fit(X, y)"
   ]
  },
  {
   "cell_type": "code",
   "execution_count": 155,
   "metadata": {},
   "outputs": [
    {
     "name": "stdout",
     "output_type": "stream",
     "text": [
      "43\n",
      "Index(['nilai_transaksi', 'waktu_transaksi', 'maksimum_nilai_transaksi',\n",
      "       'minimum_nilai_transaksi', 'rata_rata_jumlah_transaksi',\n",
      "       'flag_transaksi_fraud_sum_x', 'tipe_transaksi_58', 'tipe_transaksi_148',\n",
      "       'tipe_transaksi_159', 'tipe_transaksi_227', 'tipe_transaksi_301',\n",
      "       'tipe_transaksi_385', 'nama_kota_57', 'nama_kota_63', 'nama_kota_70',\n",
      "       'nama_kota_75', 'nama_kota_89', 'nama_kota_101', 'nama_kota_102',\n",
      "       'nama_kota_112', 'nama_kota_114', 'nama_kota_128', 'nama_kota_134',\n",
      "       'nama_kota_136', 'nama_kota_140', 'nama_kota_152', 'nama_kota_185',\n",
      "       'nama_kota_189', 'nama_kota_203', 'nama_kota_210', 'nama_kota_218',\n",
      "       'nama_kota_221', 'nama_kota_237', 'nama_kota_241', 'nama_kota_244',\n",
      "       'nama_kota_265', 'nama_kota_273', 'nama_kota_293',\n",
      "       'kuartal_transaksi_2', 'kuartal_transaksi_3', 'kuartal_transaksi_4',\n",
      "       'kepemilikan_kartu_2', 'nama_channel_5'],\n",
      "      dtype='object')\n"
     ]
    }
   ],
   "source": [
    "print(rfecv.n_features_)\n",
    "print(X.columns[rfecv.support_])"
   ]
  },
  {
   "cell_type": "code",
   "execution_count": 180,
   "metadata": {},
   "outputs": [
    {
     "name": "stdout",
     "output_type": "stream",
     "text": [
      "{'C': 0.95, 'class_weight': {0: 0.14473684210526316, 1: 0.8552631578947368}}\n",
      "0.9839152399558888\n"
     ]
    }
   ],
   "source": [
    "from sklearn.model_selection import train_test_split\n",
    "from sklearn.model_selection import GridSearchCV\n",
    "\n",
    "x_train,  x_test, y_train, y_test = train_test_split(X, y, test_size=0.2, stratify=y , random_state=42)\n",
    "\n",
    "weights = np.linspace(0.05, 0.95, 20)\n",
    "\n",
    "lr_2 = LogisticRegression(penalty='l1')\n",
    "params = {'C':np.arange(0.05, 1, 0.3), 'class_weight':[{0: x, 1: 1.0-x} for x in weights]}\n",
    "\n",
    "grid_model = GridSearchCV(lr_2, params, scoring='roc_auc', cv=5, n_jobs=-1)\n",
    "grid_model.fit(x_train, y_train)\n",
    "\n",
    "print(grid_model.best_params_)\n",
    "print(grid_model.best_score_)"
   ]
  },
  {
   "cell_type": "code",
   "execution_count": 181,
   "metadata": {},
   "outputs": [
    {
     "name": "stdout",
     "output_type": "stream",
     "text": [
      "0.9731887024150634\n"
     ]
    }
   ],
   "source": [
    "from sklearn.metrics import confusion_matrix, roc_auc_score, classification_report\n",
    "\n",
    "y_pred = grid_model.predict(x_test)\n",
    "score = roc_auc_score(y_test, y_pred)\n",
    "\n",
    "print(score)"
   ]
  },
  {
   "cell_type": "code",
   "execution_count": 182,
   "metadata": {},
   "outputs": [
    {
     "data": {
      "text/plain": [
       "array([[2312,  131],\n",
       "       [   0,  182]], dtype=int64)"
      ]
     },
     "execution_count": 182,
     "metadata": {},
     "output_type": "execute_result"
    }
   ],
   "source": [
    "confusion_matrix(y_test, y_pred)"
   ]
  },
  {
   "cell_type": "code",
   "execution_count": 184,
   "metadata": {},
   "outputs": [
    {
     "name": "stdout",
     "output_type": "stream",
     "text": [
      "             precision    recall  f1-score   support\n",
      "\n",
      "          0       1.00      0.95      0.97      2443\n",
      "          1       0.58      1.00      0.74       182\n",
      "\n",
      "avg / total       0.97      0.95      0.96      2625\n",
      "\n"
     ]
    }
   ],
   "source": [
    "print(classification_report(y_test, y_pred))"
   ]
  },
  {
   "cell_type": "code",
   "execution_count": 187,
   "metadata": {},
   "outputs": [],
   "source": [
    "y_pred_prob = grid_model.predict_proba(x_test)"
   ]
  },
  {
   "cell_type": "code",
   "execution_count": 196,
   "metadata": {},
   "outputs": [
    {
     "data": {
      "text/plain": [
       "array([[0.99459322, 0.00540678],\n",
       "       [0.99589973, 0.00410027],\n",
       "       [0.99856112, 0.00143888],\n",
       "       ...,\n",
       "       [0.99680718, 0.00319282],\n",
       "       [0.99705919, 0.00294081],\n",
       "       [0.29691734, 0.70308266]])"
      ]
     },
     "execution_count": 196,
     "metadata": {},
     "output_type": "execute_result"
    }
   ],
   "source": [
    "y_pred_prob"
   ]
  },
  {
   "cell_type": "code",
   "execution_count": 206,
   "metadata": {},
   "outputs": [],
   "source": [
    "pred_1 = []\n",
    "for x1, x2 in y_pred_prob :\n",
    "    pred_1.append(x2)"
   ]
  },
  {
   "cell_type": "code",
   "execution_count": 213,
   "metadata": {},
   "outputs": [
    {
     "data": {
      "text/plain": [
       "0.9868586182544431"
      ]
     },
     "execution_count": 213,
     "metadata": {},
     "output_type": "execute_result"
    }
   ],
   "source": [
    "roc_auc_score(y_test, pred_1)"
   ]
  },
  {
   "cell_type": "markdown",
   "metadata": {},
   "source": [
    "## Logistic Regression with SMOTE"
   ]
  },
  {
   "cell_type": "code",
   "execution_count": 233,
   "metadata": {},
   "outputs": [
    {
     "ename": "TypeError",
     "evalue": "All intermediate steps should be transformers and implement fit and transform. 'SMOTE(k=None, k_neighbors=5, kind='regular', m=None, m_neighbors=10, n_jobs=1,\n   out_step=0.5, random_state=None, ratio='auto', svm_estimator=None)' (type <class 'imblearn.over_sampling.smote.SMOTE'>) doesn't",
     "output_type": "error",
     "traceback": [
      "\u001b[1;31m---------------------------------------------------------------------------\u001b[0m",
      "\u001b[1;31mTypeError\u001b[0m                                 Traceback (most recent call last)",
      "\u001b[1;32m<ipython-input-233-0b734351177f>\u001b[0m in \u001b[0;36m<module>\u001b[1;34m()\u001b[0m\n\u001b[0;32m      6\u001b[0m \u001b[0mparams\u001b[0m \u001b[1;33m=\u001b[0m \u001b[1;33m{\u001b[0m\u001b[1;34m'lr_2__C'\u001b[0m\u001b[1;33m:\u001b[0m\u001b[0mnp\u001b[0m\u001b[1;33m.\u001b[0m\u001b[0marange\u001b[0m\u001b[1;33m(\u001b[0m\u001b[1;36m0.05\u001b[0m\u001b[1;33m,\u001b[0m \u001b[1;36m1\u001b[0m\u001b[1;33m,\u001b[0m \u001b[1;36m0.3\u001b[0m\u001b[1;33m)\u001b[0m\u001b[1;33m,\u001b[0m \u001b[1;34m'smote__ratio'\u001b[0m\u001b[1;33m:\u001b[0m \u001b[0mratio\u001b[0m\u001b[1;33m}\u001b[0m\u001b[1;33m\u001b[0m\u001b[0m\n\u001b[0;32m      7\u001b[0m \u001b[1;33m\u001b[0m\u001b[0m\n\u001b[1;32m----> 8\u001b[1;33m \u001b[0mpipe\u001b[0m \u001b[1;33m=\u001b[0m \u001b[0mPipeline\u001b[0m\u001b[1;33m(\u001b[0m\u001b[1;33m[\u001b[0m\u001b[1;33m(\u001b[0m\u001b[1;34m'smote'\u001b[0m\u001b[1;33m,\u001b[0m \u001b[0mSMOTE\u001b[0m\u001b[1;33m(\u001b[0m\u001b[1;33m)\u001b[0m\u001b[1;33m)\u001b[0m\u001b[1;33m,\u001b[0m \u001b[1;33m(\u001b[0m\u001b[1;34m'lr_2'\u001b[0m\u001b[1;33m,\u001b[0m \u001b[0mLogisticRegression\u001b[0m\u001b[1;33m(\u001b[0m\u001b[0mpenalty\u001b[0m\u001b[1;33m=\u001b[0m\u001b[1;34m'l1'\u001b[0m\u001b[1;33m)\u001b[0m\u001b[1;33m)\u001b[0m\u001b[1;33m]\u001b[0m\u001b[1;33m)\u001b[0m\u001b[1;33m\u001b[0m\u001b[0m\n\u001b[0m\u001b[0;32m      9\u001b[0m \u001b[1;33m\u001b[0m\u001b[0m\n\u001b[0;32m     10\u001b[0m \u001b[0mgrid_model2\u001b[0m \u001b[1;33m=\u001b[0m \u001b[0mGridSearchCV\u001b[0m\u001b[1;33m(\u001b[0m\u001b[0mpipe\u001b[0m\u001b[1;33m,\u001b[0m \u001b[0mparams\u001b[0m\u001b[1;33m,\u001b[0m \u001b[0mcv\u001b[0m\u001b[1;33m=\u001b[0m\u001b[1;36m5\u001b[0m\u001b[1;33m,\u001b[0m \u001b[0mscoring\u001b[0m\u001b[1;33m=\u001b[0m\u001b[1;34m'roc_auc'\u001b[0m\u001b[1;33m,\u001b[0m \u001b[0mn_jobs\u001b[0m\u001b[1;33m=\u001b[0m\u001b[1;33m-\u001b[0m\u001b[1;36m1\u001b[0m\u001b[1;33m)\u001b[0m\u001b[1;33m\u001b[0m\u001b[0m\n",
      "\u001b[1;32m~\\Anaconda3\\lib\\site-packages\\sklearn\\pipeline.py\u001b[0m in \u001b[0;36m__init__\u001b[1;34m(self, steps, memory)\u001b[0m\n\u001b[0;32m    112\u001b[0m     \u001b[1;32mdef\u001b[0m \u001b[0m__init__\u001b[0m\u001b[1;33m(\u001b[0m\u001b[0mself\u001b[0m\u001b[1;33m,\u001b[0m \u001b[0msteps\u001b[0m\u001b[1;33m,\u001b[0m \u001b[0mmemory\u001b[0m\u001b[1;33m=\u001b[0m\u001b[1;32mNone\u001b[0m\u001b[1;33m)\u001b[0m\u001b[1;33m:\u001b[0m\u001b[1;33m\u001b[0m\u001b[0m\n\u001b[0;32m    113\u001b[0m         \u001b[0mself\u001b[0m\u001b[1;33m.\u001b[0m\u001b[0msteps\u001b[0m \u001b[1;33m=\u001b[0m \u001b[0msteps\u001b[0m\u001b[1;33m\u001b[0m\u001b[0m\n\u001b[1;32m--> 114\u001b[1;33m         \u001b[0mself\u001b[0m\u001b[1;33m.\u001b[0m\u001b[0m_validate_steps\u001b[0m\u001b[1;33m(\u001b[0m\u001b[1;33m)\u001b[0m\u001b[1;33m\u001b[0m\u001b[0m\n\u001b[0m\u001b[0;32m    115\u001b[0m         \u001b[0mself\u001b[0m\u001b[1;33m.\u001b[0m\u001b[0mmemory\u001b[0m \u001b[1;33m=\u001b[0m \u001b[0mmemory\u001b[0m\u001b[1;33m\u001b[0m\u001b[0m\n\u001b[0;32m    116\u001b[0m \u001b[1;33m\u001b[0m\u001b[0m\n",
      "\u001b[1;32m~\\Anaconda3\\lib\\site-packages\\sklearn\\pipeline.py\u001b[0m in \u001b[0;36m_validate_steps\u001b[1;34m(self)\u001b[0m\n\u001b[0;32m    160\u001b[0m                 raise TypeError(\"All intermediate steps should be \"\n\u001b[0;32m    161\u001b[0m                                 \u001b[1;34m\"transformers and implement fit and transform.\"\u001b[0m\u001b[1;33m\u001b[0m\u001b[0m\n\u001b[1;32m--> 162\u001b[1;33m                                 \" '%s' (type %s) doesn't\" % (t, type(t)))\n\u001b[0m\u001b[0;32m    163\u001b[0m \u001b[1;33m\u001b[0m\u001b[0m\n\u001b[0;32m    164\u001b[0m         \u001b[1;31m# We allow last estimator to be None as an identity transformation\u001b[0m\u001b[1;33m\u001b[0m\u001b[1;33m\u001b[0m\u001b[0m\n",
      "\u001b[1;31mTypeError\u001b[0m: All intermediate steps should be transformers and implement fit and transform. 'SMOTE(k=None, k_neighbors=5, kind='regular', m=None, m_neighbors=10, n_jobs=1,\n   out_step=0.5, random_state=None, ratio='auto', svm_estimator=None)' (type <class 'imblearn.over_sampling.smote.SMOTE'>) doesn't"
     ]
    }
   ],
   "source": [
    "from imblearn.over_sampling import SMOTE\n",
    "from sklearn.pipeline import Pipeline\n",
    "\n",
    "ratio = np.linspace(0.005, 0.05, 10)\n",
    "\n",
    "params = {'lr_2__C':np.arange(0.05, 1, 0.3), 'smote__ratio': ratio}\n",
    "\n",
    "pipe = Pipeline([('smote', SMOTE()), ('lr_2', LogisticRegression(penalty='l1'))])\n",
    "\n",
    "grid_model2 = GridSearchCV(pipe, params, cv=5, scoring='roc_auc', n_jobs=-1)\n",
    "\n",
    "grid_model2.fit(x_train, y_train)"
   ]
  }
 ],
 "metadata": {
  "kernelspec": {
   "display_name": "Python 3",
   "language": "python",
   "name": "python3"
  },
  "language_info": {
   "codemirror_mode": {
    "name": "ipython",
    "version": 3
   },
   "file_extension": ".py",
   "mimetype": "text/x-python",
   "name": "python",
   "nbconvert_exporter": "python",
   "pygments_lexer": "ipython3",
   "version": "3.6.4"
  }
 },
 "nbformat": 4,
 "nbformat_minor": 2
}
